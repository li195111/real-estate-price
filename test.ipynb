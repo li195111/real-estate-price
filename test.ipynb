{
 "cells": [
  {
   "cell_type": "code",
   "execution_count": 68,
   "metadata": {},
   "outputs": [],
   "source": [
    "import os\n",
    "import sys\n",
    "import glob\n",
    "import json\n",
    "from datetime import datetime\n",
    "import numpy as np\n",
    "import pandas as pd\n",
    "from pyspark.sql import SparkSession\n",
    "from pyspark.sql.functions import lit, col, regexp_replace, translate\n",
    "from pyspark.sql.types import IntegerType, FloatType, DoubleType, DateType, StructType, StructField, StringType\n",
    "\n",
    "from pycnnum import num2cn, cn2num\n",
    "\n",
    "spark = SparkSession.builder.appName(\"realEstatePriceSession\").getOrCreate()"
   ]
  },
  {
   "cell_type": "code",
   "execution_count": 2,
   "metadata": {},
   "outputs": [],
   "source": [
    "download_path = os.path.abspath(\"./downloads\")\n",
    "os.makedirs(download_path, exist_ok=True)\n",
    "zip_file_path = os.path.join(download_path,'download.zip')\n",
    "unzip_dir = os.path.join(download_path,'datas')\n",
    "\n",
    "# {}_lvr_land_A\n",
    "publish = '108年第2季'\n",
    "file_format = 'csv'\n",
    "names = ['臺北市','新北市','桃園市','臺中市','高雄市']\n",
    "name_codes = ['A','F','H','B','E']\n",
    "code_name_map = {code:name for code, name in zip(name_codes,names)}\n",
    "category = '不動產資料'\n",
    "category_map = {'不動產資料':'A','預售屋買賣':'B','不動產租賃':'C'}\n",
    "name_set = {f'{code}_lvr_land_{category_map[category]}'.lower() for code in name_codes}\n",
    "file_paths = [file for file in glob.glob(rf'{unzip_dir}/*.csv', recursive=True) if os.path.basename(file).split('.')[0].lower() in name_set]"
   ]
  },
  {
   "cell_type": "code",
   "execution_count": 37,
   "metadata": {},
   "outputs": [],
   "source": [
    "# 4. Merge Spark DF\n",
    "union_df = None\n",
    "ext_col_name = '城市'\n",
    "for file_path in file_paths:\n",
    "    file_name = os.path.basename(file_path).split('.')[0]\n",
    "    zone_code = file_name[0]\n",
    "    zone_name = code_name_map[zone_code]\n",
    "    df = spark.read.csv(file_path,header=True).cache()\n",
    "    df = df.withColumn(ext_col_name, lit(zone_name))\n",
    "    if union_df is None:\n",
    "        union_df = df\n",
    "    else:\n",
    "        union_df = union_df.unionAll(df)"
   ]
  },
  {
   "cell_type": "code",
   "execution_count": 38,
   "metadata": {},
   "outputs": [],
   "source": [
    "# Cast Date Type\n",
    "union_df = union_df.withColumn(\"交易年月日\", union_df[\"交易年月日\"].cast(IntegerType()))\n",
    "# Convert Floor String to Number\n",
    "union_df = union_df.withColumn(\"總樓層數N\", regexp_replace('總樓層數', '層', ''))\n",
    "for i in range(1,100):\n",
    "    c = num2cn(i)\n",
    "    if i // 10 == 1:\n",
    "        c = c[1:]\n",
    "    union_df = union_df.withColumn(\"總樓層數N\", regexp_replace('總樓層數N', rf\"^{c}$\", f'{i}'))\n",
    "union_df = union_df.withColumn(\"總樓層數N\", union_df[\"總樓層數N\"].cast(IntegerType()))"
   ]
  },
  {
   "cell_type": "code",
   "execution_count": 57,
   "metadata": {},
   "outputs": [],
   "source": [
    "# 4. Search Condition\n",
    "n = 13\n",
    "part4_df = union_df\\\n",
    "    .where(union_df['主要用途']=='住家用')\\\n",
    "    .where(union_df['建物型態'].contains('住宅大樓'))\\\n",
    "    .where(union_df['總樓層數N'] >= n)\n",
    "# union_df.where(union_df['建物型態'].contains('住宅大樓')).count()\n",
    "# union_df.where(union_df['總樓層數N'] >= n).count()\n",
    "part4_df = part4_df.orderBy(part4_df['交易年月日'].desc())\n",
    "part4_datas = part4_df.collect()"
   ]
  },
  {
   "cell_type": "code",
   "execution_count": 69,
   "metadata": {},
   "outputs": [],
   "source": [
    "def date_num2str(date_number):\n",
    "    y = date_number // 10000\n",
    "    m = (date_number - y * 10000) // 100\n",
    "    d = (date_number - y * 10000) % 100\n",
    "    return datetime(year=y+1911,month=m,day=d).strftime('%Y-%m-%d')\n",
    "\n",
    "def output_dataframe(df):\n",
    "    df = df.orderBy(df['交易年月日'].desc())\n",
    "    result = {}\n",
    "    for row in df.collect():\n",
    "        row_data = row.asDict()\n",
    "        city = row_data.get('城市')\n",
    "        date = date_num2str(row_data.get('交易年月日'))\n",
    "        town = row_data.get('鄉鎮市區')\n",
    "        btye = row_data.get('建物型態')\n",
    "        if not city in result:\n",
    "            result[city] = {date:[{'district':town,'building_state':btye}]}\n",
    "        else:\n",
    "            if not date in result[city]:\n",
    "                result[city][date] = [{'district':town,'building_state':btye}]\n",
    "            else:\n",
    "                result[city][date].append({'district':town,'building_state':btye})\n",
    "    result_output = []\n",
    "    for city in result:\n",
    "        time_slots = []\n",
    "        for date in result[city]:\n",
    "            events = result[city][date]\n",
    "            time_slots.append({'date':date,'events':events})\n",
    "        result_output.append({'city':city,'time_slots':time_slots})\n",
    "    with open(os.path.join(os.path.abspath('.'),'result-part1.json'),'w',encoding='utf-8') as fp:\n",
    "        json.dump(result_output, fp)"
   ]
  },
  {
   "cell_type": "code",
   "execution_count": 70,
   "metadata": {},
   "outputs": [],
   "source": [
    "output_dataframe(part4_datas)"
   ]
  },
  {
   "cell_type": "code",
   "execution_count": 71,
   "metadata": {},
   "outputs": [
    {
     "data": {
      "text/plain": [
       "DataFrame[鄉鎮市區: string, 交易標的: string, 土地位置建物門牌: string, 土地移轉總面積平方公尺: string, 都市土地使用分區: string, 非都市土地使用分區: string, 非都市土地使用編定: string, 交易年月日: int, 交易筆棟數: string, 移轉層次: string, 總樓層數: string, 建物型態: string, 主要用途: string, 主要建材: string, 建築完成年月: string, 建物移轉總面積平方公尺: string, 建物現況格局-房: string, 建物現況格局-廳: string, 建物現況格局-衛: string, 建物現況格局-隔間: string, 有無管理組織: string, 總價元: string, 單價元平方公尺: string, 車位類別: string, 車位移轉總面積(平方公尺): string, 車位總價元: string, 備註: string, 編號: string, 主建物面積: string, 附屬建物面積: string, 陽台面積: string, 電梯: string, 移轉編號: string, 城市: string, 總樓層數N: int]"
      ]
     },
     "execution_count": 71,
     "metadata": {},
     "output_type": "execute_result"
    }
   ],
   "source": [
    "twnships = ''\n",
    "building_type = '住宅大樓'\n",
    "main_purpose = '住家用'\n",
    "n_floors = 13\n",
    "transaction_date = ''\n",
    "city = '臺北市'\n",
    "\n",
    "res = union_df\n",
    "if twnships:\n",
    "    res = res.where(union_df['鄉鎮市區']==twnships)\n",
    "if building_type:\n",
    "    res = res.where(union_df['建物型態'].contains(building_type))\n",
    "if main_purpose:\n",
    "    res = res.where(union_df['主要用途']==main_purpose)\n",
    "if n_floors:\n",
    "    res = res.where(union_df['總樓層數N']>=n_floors)\n",
    "if transaction_date:\n",
    "    res = res.where(union_df['交易年月日']==transaction_date)\n",
    "if city:\n",
    "    res = res.where(union_df['城市'] == city)\n",
    "res = res.orderBy(union_df['交易年月日'].desc())\n",
    "res"
   ]
  },
  {
   "cell_type": "code",
   "execution_count": null,
   "metadata": {},
   "outputs": [],
   "source": []
  }
 ],
 "metadata": {
  "interpreter": {
   "hash": "c8575fb375a5c436587b2c4c6e2cf0817fd4a524588ab265252a2e539f9cdf11"
  },
  "kernelspec": {
   "display_name": "Python 3 (ipykernel)",
   "language": "python",
   "name": "python3"
  },
  "language_info": {
   "codemirror_mode": {
    "name": "ipython",
    "version": 3
   },
   "file_extension": ".py",
   "mimetype": "text/x-python",
   "name": "python",
   "nbconvert_exporter": "python",
   "pygments_lexer": "ipython3",
   "version": "3.7.11"
  }
 },
 "nbformat": 4,
 "nbformat_minor": 2
}
